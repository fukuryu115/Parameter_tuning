{
 "cells": [
  {
   "cell_type": "markdown",
   "id": "d40bd547-082b-4dd8-b13f-1ae8a550a517",
   "metadata": {},
   "source": [
    "# MNISTの学習"
   ]
  },
  {
   "cell_type": "code",
   "execution_count": null,
   "id": "934f0314-1734-4194-b107-ea4888bb0497",
   "metadata": {},
   "outputs": [
    {
     "name": "stderr",
     "output_type": "stream",
     "text": [
      "2023-07-12 14:03:34.153179: I tensorflow/core/platform/cpu_feature_guard.cc:182] This TensorFlow binary is optimized to use available CPU instructions in performance-critical operations.\n",
      "To enable the following instructions: AVX2 FMA, in other operations, rebuild TensorFlow with the appropriate compiler flags.\n",
      "2023-07-12 14:03:34.623135: W tensorflow/compiler/tf2tensorrt/utils/py_utils.cc:38] TF-TRT Warning: Could not find TensorRT\n"
     ]
    },
    {
     "name": "stdout",
     "output_type": "stream",
     "text": [
      "Files already downloaded and verified\n",
      "Files already downloaded and verified\n",
      "step\n",
      "\n",
      "Train start\n",
      "Training: 1 epoch. 100 iteration. Loss: 2.171548843383789\n",
      "Training: 1 epoch. 200 iteration. Loss: 2.2879350185394287\n",
      "Training: 1 epoch. 300 iteration. Loss: 1.1362601518630981\n",
      "Training: 1 epoch. 400 iteration. Loss: 1.970834493637085\n",
      "Training: 1 epoch. 500 iteration. Loss: 1.399919033050537\n",
      "Training: 1 epoch. 600 iteration. Loss: 1.8379899263381958\n",
      "Training: 1 epoch. 700 iteration. Loss: 1.3880672454833984\n",
      "Training: 1 epoch. 800 iteration. Loss: 1.5775820016860962\n",
      "Training: 1 epoch. 900 iteration. Loss: 2.076324939727783\n",
      "Training: 1 epoch. 1000 iteration. Loss: 1.879427433013916\n",
      "Training: 1 epoch. 1100 iteration. Loss: 2.5314388275146484\n",
      "Training: 1 epoch. 1200 iteration. Loss: 1.6357733011245728\n",
      "Training: 1 epoch. 1300 iteration. Loss: 1.9705355167388916\n",
      "Training: 1 epoch. 1400 iteration. Loss: 1.7092700004577637\n",
      "Training: 1 epoch. 1500 iteration. Loss: 2.02944016456604\n",
      "Training: 1 epoch. 1600 iteration. Loss: 1.5576140880584717\n",
      "Training: 1 epoch. 1700 iteration. Loss: 1.1855688095092773\n",
      "Training: 1 epoch. 1800 iteration. Loss: 2.187204599380493\n",
      "Training: 1 epoch. 1900 iteration. Loss: 2.0581138134002686\n",
      "Training: 1 epoch. 2000 iteration. Loss: 1.5476038455963135\n",
      "Training: 1 epoch. 2100 iteration. Loss: 1.7032949924468994\n",
      "Training: 1 epoch. 2200 iteration. Loss: 2.452005624771118\n",
      "Training: 1 epoch. 2300 iteration. Loss: 1.184840440750122\n",
      "Training: 1 epoch. 2400 iteration. Loss: 1.1711556911468506\n",
      "Training: 1 epoch. 2500 iteration. Loss: 1.887618899345398\n",
      "Training: 1 epoch. 2600 iteration. Loss: 1.334928274154663\n",
      "Training: 1 epoch. 2700 iteration. Loss: 1.3434628248214722\n",
      "Training: 1 epoch. 2800 iteration. Loss: 1.8519285917282104\n",
      "Training: 1 epoch. 2900 iteration. Loss: 1.2448737621307373\n",
      "Training: 1 epoch. 3000 iteration. Loss: 2.343465566635132\n",
      "Training: 1 epoch. 3100 iteration. Loss: 0.964951753616333\n",
      "Training: 1 epoch. 3200 iteration. Loss: 1.4586471319198608\n",
      "Training: 1 epoch. 3300 iteration. Loss: 1.311998724937439\n",
      "Training: 1 epoch. 3400 iteration. Loss: 1.2874739170074463\n",
      "Training: 1 epoch. 3500 iteration. Loss: 1.1711504459381104\n",
      "Training: 1 epoch. 3600 iteration. Loss: 1.3820650577545166\n",
      "Training: 1 epoch. 3700 iteration. Loss: 1.6686714887619019\n",
      "Training: 1 epoch. 3800 iteration. Loss: 2.1018784046173096\n",
      "Training: 1 epoch. 3900 iteration. Loss: 2.8199610710144043\n",
      "Training: 1 epoch. 4000 iteration. Loss: 1.139427661895752\n",
      "Training: 1 epoch. 4100 iteration. Loss: 1.4956080913543701\n",
      "Training: 1 epoch. 4200 iteration. Loss: 1.6588904857635498\n",
      "Training: 1 epoch. 4300 iteration. Loss: 1.2810614109039307\n",
      "Training: 1 epoch. 4400 iteration. Loss: 0.6726833581924438\n",
      "Training: 1 epoch. 4500 iteration. Loss: 2.1922965049743652\n",
      "Training: 1 epoch. 4600 iteration. Loss: 2.212397336959839\n",
      "Training: 1 epoch. 4700 iteration. Loss: 1.8878428936004639\n",
      "Training: 1 epoch. 4800 iteration. Loss: 1.1493364572525024\n"
     ]
    }
   ],
   "source": [
    "run ../src/CIFAR10/CIFAR_train.py"
   ]
  },
  {
   "cell_type": "markdown",
   "id": "2b814573-d881-4dc3-a625-6c5f537882a4",
   "metadata": {},
   "source": [
    "# Tensorboardでの確認"
   ]
  },
  {
   "cell_type": "code",
   "execution_count": null,
   "id": "7c662e6f-92d7-4903-b4b9-b38acb1ae4e9",
   "metadata": {},
   "outputs": [],
   "source": [
    "!tensorboard --logdir ../logs/CIFAR10 --port 6001 --bind_all\n"
   ]
  },
  {
   "cell_type": "markdown",
   "id": "b1367156-d5c2-4212-91b5-b39366f9f777",
   "metadata": {},
   "source": [
    "# パラメータの変更"
   ]
  },
  {
   "cell_type": "code",
   "execution_count": null,
   "id": "5e589346-9195-44ad-8d42-09602707cbbe",
   "metadata": {},
   "outputs": [],
   "source": [
    "run ../src/CIFAR10/CIFAR_train --epoch 30 "
   ]
  },
  {
   "cell_type": "markdown",
   "id": "8cfdd6dc-598c-4564-a185-c7a5d54f5b11",
   "metadata": {},
   "source": [
    "# Optunaによる自動パラメータ調整"
   ]
  },
  {
   "cell_type": "code",
   "execution_count": null,
   "id": "01b42c0e-030b-427f-92e5-0a2bd1ce43b2",
   "metadata": {},
   "outputs": [],
   "source": [
    "run ../src/CIFAR10/Optuna.py"
   ]
  }
 ],
 "metadata": {
  "kernelspec": {
   "display_name": "Python 3 (ipykernel)",
   "language": "python",
   "name": "python3"
  },
  "language_info": {
   "codemirror_mode": {
    "name": "ipython",
    "version": 3
   },
   "file_extension": ".py",
   "mimetype": "text/x-python",
   "name": "python",
   "nbconvert_exporter": "python",
   "pygments_lexer": "ipython3",
   "version": "3.10.8"
  }
 },
 "nbformat": 4,
 "nbformat_minor": 5
}
